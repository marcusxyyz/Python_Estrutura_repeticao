{
  "nbformat": 4,
  "nbformat_minor": 0,
  "metadata": {
    "colab": {
      "name": "exercicio21repeticao.ipynb",
      "provenance": [],
      "collapsed_sections": [],
      "authorship_tag": "ABX9TyPPDM1JDiQs9MuvwxJ85EpY",
      "include_colab_link": true
    },
    "kernelspec": {
      "name": "python3",
      "display_name": "Python 3"
    },
    "language_info": {
      "name": "python"
    }
  },
  "cells": [
    {
      "cell_type": "markdown",
      "metadata": {
        "id": "view-in-github",
        "colab_type": "text"
      },
      "source": [
        "<a href=\"https://colab.research.google.com/github/marcusxyyz/Python_Estrutura_repeticao/blob/main/exercicio21repeticao.ipynb\" target=\"_parent\"><img src=\"https://colab.research.google.com/assets/colab-badge.svg\" alt=\"Open In Colab\"/></a>"
      ]
    },
    {
      "cell_type": "markdown",
      "source": [
        "# ***Exercício 21***\n",
        "\n",
        "Faça um programa que peça um número inteiro e determine se ele é ou não um número primo. Um número primo é aquele que é divisível somente por ele mesmo e por 1."
      ],
      "metadata": {
        "id": "GioMzQSxINU4"
      }
    },
    {
      "cell_type": "code",
      "execution_count": 32,
      "metadata": {
        "colab": {
          "base_uri": "https://localhost:8080/"
        },
        "id": "NaIKtdPJIG-U",
        "outputId": "f2078f89-29b9-47d7-9028-b568b6bf11c4"
      },
      "outputs": [
        {
          "name": "stdout",
          "output_type": "stream",
          "text": [
            "Digite um número: 997\n"
          ]
        }
      ],
      "source": [
        "num = int(input('Digite um número: '))"
      ]
    },
    {
      "cell_type": "code",
      "source": [
        "cont = 0\n",
        "for i in range(1, 1000):\n",
        "  if num % 1 == 0 and num % num == 0 and num % i == 0:\n",
        "    cont += 1\n",
        "\n",
        "print(cont)\n",
        "if cont == 2:\n",
        "  print(f'O numero {num} é primo')\n",
        "else:\n",
        "  print(f'O número {num} não é primo')"
      ],
      "metadata": {
        "colab": {
          "base_uri": "https://localhost:8080/"
        },
        "id": "HfcfJ3-XIWqv",
        "outputId": "b8ac67d1-2381-4ee0-9cf4-bafbcac22ac8"
      },
      "execution_count": 33,
      "outputs": [
        {
          "output_type": "stream",
          "name": "stdout",
          "text": [
            "2\n",
            "O numero 997 é primo\n"
          ]
        }
      ]
    }
  ]
}