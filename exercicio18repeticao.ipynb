{
  "nbformat": 4,
  "nbformat_minor": 0,
  "metadata": {
    "colab": {
      "name": "exercicio18repeticao.ipynb",
      "provenance": [],
      "collapsed_sections": [],
      "authorship_tag": "ABX9TyPWH6MZRuctUwnutYq4JZ8N",
      "include_colab_link": true
    },
    "kernelspec": {
      "name": "python3",
      "display_name": "Python 3"
    },
    "language_info": {
      "name": "python"
    }
  },
  "cells": [
    {
      "cell_type": "markdown",
      "metadata": {
        "id": "view-in-github",
        "colab_type": "text"
      },
      "source": [
        "<a href=\"https://colab.research.google.com/github/marcusxyyz/Python_Estrutura_repeticao/blob/main/exercicio18repeticao.ipynb\" target=\"_parent\"><img src=\"https://colab.research.google.com/assets/colab-badge.svg\" alt=\"Open In Colab\"/></a>"
      ]
    },
    {
      "cell_type": "markdown",
      "source": [
        "# ***Exercício 18***\n",
        "Faça um programa que, dado um conjunto de N números, determine o menor valor, o maior valor e a soma dos valores."
      ],
      "metadata": {
        "id": "t7jcTEp_BjYa"
      }
    },
    {
      "cell_type": "code",
      "execution_count": 5,
      "metadata": {
        "colab": {
          "base_uri": "https://localhost:8080/"
        },
        "id": "bfrP0LQKBheS",
        "outputId": "8f36e156-51e7-4ec1-9137-75f42be6e589"
      },
      "outputs": [
        {
          "output_type": "stream",
          "name": "stdout",
          "text": [
            "Informe um valor: 6\n",
            "Informe outro valor: 8\n",
            "Informe outro valor: 5\n",
            "Informe outro valor: 6\n",
            "Informe outro valor: -10\n",
            "\n",
            "Menor número digitado: 5\n",
            "Maior número digitado: 8\n",
            "Soma entre todos os números digitados: 25\n"
          ]
        }
      ],
      "source": [
        "num = int(input('Informe um valor: '))\n",
        "\n",
        "maior = 0\n",
        "menor = num\n",
        "soma = 0\n",
        "while num >= 0:\n",
        "  if num > maior:\n",
        "    maior = num\n",
        "  if num < menor:\n",
        "    menor = num \n",
        "  soma += num\n",
        "  num = int(input('Informe outro valor: '))\n",
        "\n",
        "print()\n",
        "print(f'Menor número digitado: {menor}')\n",
        "print(f'Maior número digitado: {maior}')\n",
        "print(f'Soma entre todos os números digitados: {soma}')"
      ]
    }
  ]
}