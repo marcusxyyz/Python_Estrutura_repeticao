{
  "nbformat": 4,
  "nbformat_minor": 0,
  "metadata": {
    "colab": {
      "name": "exercicio14repeticao.ipynb",
      "provenance": [],
      "collapsed_sections": [],
      "authorship_tag": "ABX9TyPkc2mq2eyfTACE7jVpwCji",
      "include_colab_link": true
    },
    "kernelspec": {
      "name": "python3",
      "display_name": "Python 3"
    },
    "language_info": {
      "name": "python"
    }
  },
  "cells": [
    {
      "cell_type": "markdown",
      "metadata": {
        "id": "view-in-github",
        "colab_type": "text"
      },
      "source": [
        "<a href=\"https://colab.research.google.com/github/marcusxyyz/Python_Estrutura_repeticao/blob/main/exercicio14repeticao.ipynb\" target=\"_parent\"><img src=\"https://colab.research.google.com/assets/colab-badge.svg\" alt=\"Open In Colab\"/></a>"
      ]
    },
    {
      "cell_type": "markdown",
      "source": [
        "# ***Exercício 14***\n",
        "\n",
        "Faça um programa que peça 10 números inteiros, calcule e mostre a quantidade de números pares e a quantidade de números impares."
      ],
      "metadata": {
        "id": "xY7TtiL4ol0S"
      }
    },
    {
      "cell_type": "code",
      "execution_count": 5,
      "metadata": {
        "id": "66ozAPz7og7O"
      },
      "outputs": [],
      "source": [
        "par = 0\n",
        "impar = 0"
      ]
    },
    {
      "cell_type": "code",
      "source": [
        "for i in range(10):\n",
        "  numero = int(input(f'Digite um valor ({i+1}/10):'))\n",
        "  if numero % 2 == 0:\n",
        "    par += 1\n",
        "  else:\n",
        "    impar += 1\n",
        "\n",
        "print()\n",
        "print(f'Pares: {par}')\n",
        "print(f'Impares: {impar}')"
      ],
      "metadata": {
        "colab": {
          "base_uri": "https://localhost:8080/"
        },
        "id": "Kq2xApOcouSY",
        "outputId": "811cde17-f031-4479-aa1e-7325d5c38111"
      },
      "execution_count": 6,
      "outputs": [
        {
          "output_type": "stream",
          "name": "stdout",
          "text": [
            "Digite um valor (1/10):10\n",
            "Digite um valor (2/10):20\n",
            "Digite um valor (3/10):21\n",
            "Digite um valor (4/10):22\n",
            "Digite um valor (5/10):33\n",
            "Digite um valor (6/10):35\n",
            "Digite um valor (7/10):90\n",
            "Digite um valor (8/10):91\n",
            "Digite um valor (9/10):2\n",
            "Digite um valor (10/10):4\n",
            "\n",
            "Pares: 6\n",
            "Impares: 4\n"
          ]
        }
      ]
    }
  ]
}