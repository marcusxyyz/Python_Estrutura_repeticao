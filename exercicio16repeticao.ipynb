{
  "nbformat": 4,
  "nbformat_minor": 0,
  "metadata": {
    "colab": {
      "name": "exercicio16repeticao.ipynb",
      "provenance": [],
      "authorship_tag": "ABX9TyOGEe5gdeWLfdk1PllSg4y2",
      "include_colab_link": true
    },
    "kernelspec": {
      "name": "python3",
      "display_name": "Python 3"
    },
    "language_info": {
      "name": "python"
    }
  },
  "cells": [
    {
      "cell_type": "markdown",
      "metadata": {
        "id": "view-in-github",
        "colab_type": "text"
      },
      "source": [
        "<a href=\"https://colab.research.google.com/github/marcusxyyz/Python_Estrutura_repeticao/blob/main/exercicio16repeticao.ipynb\" target=\"_parent\"><img src=\"https://colab.research.google.com/assets/colab-badge.svg\" alt=\"Open In Colab\"/></a>"
      ]
    },
    {
      "cell_type": "markdown",
      "source": [
        "# ***Exercíicio 16***\n",
        "\n",
        "A série de Fibonacci é formada pela seqüência 0,1,1,2,3,5,8,13,21,34,55,... Faça um programa que gere a série até que o valor seja maior que 500."
      ],
      "metadata": {
        "id": "nYyG8XWb-647"
      }
    },
    {
      "cell_type": "code",
      "execution_count": 18,
      "metadata": {
        "id": "382z7W8X-3Ip"
      },
      "outputs": [],
      "source": [
        "antecessor = 0\n",
        "sucessor = 1"
      ]
    },
    {
      "cell_type": "code",
      "source": [
        "print(antecessor)\n",
        "print(sucessor)\n",
        "\n",
        "f = antecessor + sucessor\n",
        "while 500 != f:\n",
        "  print(f)\n",
        "  antecessor = sucessor\n",
        "  sucessor = f\n",
        "  f = antecessor + sucessor\n",
        "  if f > 500:\n",
        "    print(f)\n",
        "    break"
      ],
      "metadata": {
        "colab": {
          "base_uri": "https://localhost:8080/"
        },
        "id": "Mp-eMgIj_GXb",
        "outputId": "c3fdb2b1-a7a9-4972-f78e-2948b25125d1"
      },
      "execution_count": 19,
      "outputs": [
        {
          "output_type": "stream",
          "name": "stdout",
          "text": [
            "0\n",
            "1\n",
            "1\n",
            "2\n",
            "3\n",
            "5\n",
            "8\n",
            "13\n",
            "21\n",
            "34\n",
            "55\n",
            "89\n",
            "144\n",
            "233\n",
            "377\n",
            "610\n"
          ]
        }
      ]
    }
  ]
}