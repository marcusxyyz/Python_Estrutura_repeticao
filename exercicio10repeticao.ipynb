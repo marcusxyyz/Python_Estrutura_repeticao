{
  "nbformat": 4,
  "nbformat_minor": 0,
  "metadata": {
    "colab": {
      "name": "exercicio10repeticao.ipynb",
      "provenance": [],
      "authorship_tag": "ABX9TyOyj5IeTaPJ6Owwo26tpB/f",
      "include_colab_link": true
    },
    "kernelspec": {
      "name": "python3",
      "display_name": "Python 3"
    },
    "language_info": {
      "name": "python"
    }
  },
  "cells": [
    {
      "cell_type": "markdown",
      "metadata": {
        "id": "view-in-github",
        "colab_type": "text"
      },
      "source": [
        "<a href=\"https://colab.research.google.com/github/marcusxyyz/Python_Estrutura_repeticao/blob/main/exercicio10repeticao.ipynb\" target=\"_parent\"><img src=\"https://colab.research.google.com/assets/colab-badge.svg\" alt=\"Open In Colab\"/></a>"
      ]
    },
    {
      "cell_type": "markdown",
      "source": [
        "# ***Exercício 10***\n",
        "Faça um programa que receba dois números inteiros e gere os números inteiros que estão no intervalo compreendido por eles."
      ],
      "metadata": {
        "id": "qUvAWAE3lDI7"
      }
    },
    {
      "cell_type": "code",
      "execution_count": 8,
      "metadata": {
        "colab": {
          "base_uri": "https://localhost:8080/"
        },
        "id": "21x-U7uvlBKC",
        "outputId": "302fe7a5-bfca-4e63-85c4-af8feeb8dbf8"
      },
      "outputs": [
        {
          "name": "stdout",
          "output_type": "stream",
          "text": [
            "Informe o primeiro valor: 10\n",
            "Informe o segundo valor: 0\n"
          ]
        }
      ],
      "source": [
        "num1 = int(input('Informe o primeiro valor: '))\n",
        "num2 = int(input('Informe o segundo valor: '))\n",
        "controller = 0"
      ]
    },
    {
      "cell_type": "markdown",
      "source": [
        "OBS: Caso o primeiro valor seja maior que o segundo valor, invertemos o valor deles com a variável controller, para que o programa execute sempre do menor para o maior"
      ],
      "metadata": {
        "id": "-W1kpPB-l2sB"
      }
    },
    {
      "cell_type": "code",
      "source": [
        "if num1 > num2:\n",
        "  controller = num1\n",
        "  num1 = num2\n",
        "  num2 = controller"
      ],
      "metadata": {
        "id": "S2kduFDRlb0B"
      },
      "execution_count": 9,
      "outputs": []
    },
    {
      "cell_type": "code",
      "source": [
        "for i in range(num1, num2+1):\n",
        "  print(i, end=' ')"
      ],
      "metadata": {
        "colab": {
          "base_uri": "https://localhost:8080/"
        },
        "id": "Na2ZqTLWlica",
        "outputId": "0f545b5c-93cd-4d40-9217-bdfffc8765a1"
      },
      "execution_count": 10,
      "outputs": [
        {
          "output_type": "stream",
          "name": "stdout",
          "text": [
            "0 1 2 3 4 5 6 7 8 9 10 "
          ]
        }
      ]
    }
  ]
}