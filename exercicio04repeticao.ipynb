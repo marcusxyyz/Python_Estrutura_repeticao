{
  "nbformat": 4,
  "nbformat_minor": 0,
  "metadata": {
    "colab": {
      "name": "exercicio04repeticao.ipynb",
      "provenance": [],
      "authorship_tag": "ABX9TyN9wuTXW/19kCUWYr1cuJNK",
      "include_colab_link": true
    },
    "kernelspec": {
      "name": "python3",
      "display_name": "Python 3"
    },
    "language_info": {
      "name": "python"
    }
  },
  "cells": [
    {
      "cell_type": "markdown",
      "metadata": {
        "id": "view-in-github",
        "colab_type": "text"
      },
      "source": [
        "<a href=\"https://colab.research.google.com/github/marcusxyyz/Python_Estrutura_repeticao/blob/main/exercicio04repeticao.ipynb\" target=\"_parent\"><img src=\"https://colab.research.google.com/assets/colab-badge.svg\" alt=\"Open In Colab\"/></a>"
      ]
    },
    {
      "cell_type": "markdown",
      "source": [
        "# ***Exercício 04***\n",
        "\n",
        "Supondo que a população de um país A seja da ordem de 80000 habitantes com uma taxa anual de crescimento de 3% e que a população de B seja 200000 habitantes com uma taxa de crescimento de 1.5%. Faça um programa que calcule e escreva o número de anos necessários para que a população do país A ultrapasse ou iguale a população do país B, mantidas as taxas de crescimento"
      ],
      "metadata": {
        "id": "W29BrskgZVz3"
      }
    },
    {
      "cell_type": "code",
      "execution_count": 3,
      "metadata": {
        "id": "Dqzc0rggZUE8"
      },
      "outputs": [],
      "source": [
        "paisA = 80000\n",
        "crescimentoPaisA = 0.03\n",
        "\n",
        "paisB = 200000\n",
        "crescimentoPaisB = 0.015\n",
        "\n",
        "ano = 0"
      ]
    },
    {
      "cell_type": "code",
      "source": [
        "while paisA <= paisB:\n",
        "  paisA += paisA * crescimentoPaisA\n",
        "  paisB += paisB * crescimentoPaisB\n",
        "  ano += 1\n",
        "print(f'Anos necessários: {ano}')"
      ],
      "metadata": {
        "colab": {
          "base_uri": "https://localhost:8080/"
        },
        "id": "ZwpHg8QjfJD0",
        "outputId": "362812bc-af73-489b-b10e-9e1f310ce281"
      },
      "execution_count": 4,
      "outputs": [
        {
          "output_type": "stream",
          "name": "stdout",
          "text": [
            "Anos necessários: 63\n"
          ]
        }
      ]
    }
  ]
}