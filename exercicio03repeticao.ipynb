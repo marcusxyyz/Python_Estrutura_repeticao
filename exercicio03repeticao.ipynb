{
  "nbformat": 4,
  "nbformat_minor": 0,
  "metadata": {
    "colab": {
      "name": "exercicio03repeticao.ipynb",
      "provenance": [],
      "collapsed_sections": [],
      "authorship_tag": "ABX9TyMU9gqoRA91hgyXCRuHdpgW",
      "include_colab_link": true
    },
    "kernelspec": {
      "name": "python3",
      "display_name": "Python 3"
    },
    "language_info": {
      "name": "python"
    }
  },
  "cells": [
    {
      "cell_type": "markdown",
      "metadata": {
        "id": "view-in-github",
        "colab_type": "text"
      },
      "source": [
        "<a href=\"https://colab.research.google.com/github/marcusxyyz/Python_Estrutura_repeticao/blob/main/exercicio03repeticao.ipynb\" target=\"_parent\"><img src=\"https://colab.research.google.com/assets/colab-badge.svg\" alt=\"Open In Colab\"/></a>"
      ]
    },
    {
      "cell_type": "markdown",
      "source": [
        "# ***Exercício 03***\n",
        "Faça um programa que leia e valide as seguintes informações:\n",
        "\n",
        "* Nome: maior que 3 caracteres;\n",
        "\n",
        "* Idade: entre 0 e 150;\n",
        "\n",
        "* Salário: maior que zero;\n",
        "\n",
        "* Sexo: 'f' ou 'm';\n",
        "\n",
        "* Estado Civil: 's', 'c', 'v', 'd';"
      ],
      "metadata": {
        "id": "AwjBpduOP73J"
      }
    },
    {
      "cell_type": "code",
      "execution_count": 30,
      "metadata": {
        "colab": {
          "base_uri": "https://localhost:8080/"
        },
        "id": "PfKWW1KQP5m4",
        "outputId": "9f5e674b-f148-41d3-9c8e-2b28c63426e9"
      },
      "outputs": [
        {
          "output_type": "stream",
          "name": "stdout",
          "text": [
            "-------------CADASTRO-------------\n",
            "Nome: maria\n",
            "Idade: 18\n",
            "Salario: 1000.00\n",
            "Sexo: f\n",
            "Estado Civil: s\n",
            "Obrigado Seus dados estão corretos\n"
          ]
        }
      ],
      "source": [
        "print('-------------CADASTRO-------------')\n",
        "\n",
        "nome = str(input('Nome: '))\n",
        "idade = int(input('Idade: '))\n",
        "salario = float(input('Salario: '))\n",
        "sexo = str(input('Sexo: '))\n",
        "EC = str(input('Estado Civil: '))\n",
        "\n",
        "while True:\n",
        "  if (len(nome) <= 3):\n",
        "    print('O nome deve com ter 3 caracteres ou mais!!')\n",
        "  elif idade < 0 or idade > 150:\n",
        "    print('A idade deve ser entre 0 e 150!!')\n",
        "  elif salario < 0:\n",
        "    print('Salário deve ser maior que zero!!')\n",
        "  elif sexo != 'f' and sexo != 'm':\n",
        "    print('Sexo Incorreto')\n",
        "  elif EC != 's' and EC != 'C' and EC != 'V' and EC != 'D':\n",
        "    print('Nenhuma das opções de estado civil encontrada')\n",
        "  else:\n",
        "    break\n",
        "  nome = str(input('Nome: '))\n",
        "  idade = int(input('Idade: '))\n",
        "  salario = float(input('Salario: '))\n",
        "  sexo = str(input('Sexo: '))\n",
        "  EC = str(input('Estado Civil: '))\n",
        "  print()\n",
        "print('Obrigado Seus dados estão corretos')\n"
      ]
    }
  ]
}