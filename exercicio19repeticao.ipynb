{
  "nbformat": 4,
  "nbformat_minor": 0,
  "metadata": {
    "colab": {
      "name": "exercicio19repeticao.ipynb",
      "provenance": [],
      "authorship_tag": "ABX9TyM89p0eGaYBtJJZwe+baM18",
      "include_colab_link": true
    },
    "kernelspec": {
      "name": "python3",
      "display_name": "Python 3"
    },
    "language_info": {
      "name": "python"
    }
  },
  "cells": [
    {
      "cell_type": "markdown",
      "metadata": {
        "id": "view-in-github",
        "colab_type": "text"
      },
      "source": [
        "<a href=\"https://colab.research.google.com/github/marcusxyyz/Python_Estrutura_repeticao/blob/main/exercicio19repeticao.ipynb\" target=\"_parent\"><img src=\"https://colab.research.google.com/assets/colab-badge.svg\" alt=\"Open In Colab\"/></a>"
      ]
    },
    {
      "cell_type": "markdown",
      "source": [
        "# ***Exercício 19***\n",
        "\n",
        "Altere o programa anterior para que ele aceite apenas números entre 0 e 1000."
      ],
      "metadata": {
        "id": "pBps2avsDBkq"
      }
    },
    {
      "cell_type": "code",
      "execution_count": 5,
      "metadata": {
        "colab": {
          "base_uri": "https://localhost:8080/"
        },
        "id": "MAQLO3_zC0UU",
        "outputId": "b6fc610e-064d-4010-96ac-2e32ea2849e2"
      },
      "outputs": [
        {
          "output_type": "stream",
          "name": "stdout",
          "text": [
            "Informe um valor: 5\n",
            "Informe outro valor: 10\n",
            "Informe outro valor: 20\n",
            "Informe outro valor: 330\n",
            "Informe outro valor: -5\n",
            "\n",
            "Menor número digitado: 5\n",
            "Maior número digitado: 330\n",
            "Soma entre todos os números digitados: 365\n"
          ]
        }
      ],
      "source": [
        "num = int(input('Informe um valor: '))\n",
        "\n",
        "maior = 0\n",
        "menor = num\n",
        "soma = 0\n",
        "while num >= 0 and num <= 1000:\n",
        "  if num > maior:\n",
        "    maior = num\n",
        "  if num < menor:\n",
        "    menor = num \n",
        "  soma += num\n",
        "  num = int(input('Informe outro valor: '))\n",
        "\n",
        "print()\n",
        "print(f'Menor número digitado: {menor}')\n",
        "print(f'Maior número digitado: {maior}')\n",
        "print(f'Soma entre todos os números digitados: {soma}')"
      ]
    }
  ]
}