{
  "nbformat": 4,
  "nbformat_minor": 0,
  "metadata": {
    "colab": {
      "name": "exercicio11repeticao.ipynb",
      "provenance": [],
      "collapsed_sections": [],
      "authorship_tag": "ABX9TyMfegh1vpm9A8LKLmU6IoXz",
      "include_colab_link": true
    },
    "kernelspec": {
      "name": "python3",
      "display_name": "Python 3"
    },
    "language_info": {
      "name": "python"
    }
  },
  "cells": [
    {
      "cell_type": "markdown",
      "metadata": {
        "id": "view-in-github",
        "colab_type": "text"
      },
      "source": [
        "<a href=\"https://colab.research.google.com/github/marcusxyyz/Python_Estrutura_repeticao/blob/main/exercicio11repeticao.ipynb\" target=\"_parent\"><img src=\"https://colab.research.google.com/assets/colab-badge.svg\" alt=\"Open In Colab\"/></a>"
      ]
    },
    {
      "cell_type": "markdown",
      "source": [
        "# ***Exercício 11***\n",
        "Altere o programa anterior para mostrar no final a soma dos números."
      ],
      "metadata": {
        "id": "8NcbhmMSmT5S"
      }
    },
    {
      "cell_type": "code",
      "execution_count": 5,
      "metadata": {
        "colab": {
          "base_uri": "https://localhost:8080/"
        },
        "id": "0UfaZRYQmN4P",
        "outputId": "aa9b2616-94af-401e-be36-2b273d32a861"
      },
      "outputs": [
        {
          "name": "stdout",
          "output_type": "stream",
          "text": [
            "Informe o primeiro valor: 1\n",
            "Informe o segundo valor: 100\n"
          ]
        }
      ],
      "source": [
        "num1 = int(input('Informe o primeiro valor: '))\n",
        "num2 = int(input('Informe o segundo valor: '))\n",
        "controller = 0"
      ]
    },
    {
      "cell_type": "markdown",
      "source": [
        "OBS: Caso o primeiro valor seja maior que o segundo valor, invertemos o valor deles com a variável controller, para que o programa execute sempre do menor para o maior"
      ],
      "metadata": {
        "id": "3naurbMemwNC"
      }
    },
    {
      "cell_type": "code",
      "source": [
        "if num1 > num2:\n",
        "  controller = num1\n",
        "  num1 = num2\n",
        "  num2 = controller"
      ],
      "metadata": {
        "id": "Wa1srajKmdVp"
      },
      "execution_count": 6,
      "outputs": []
    },
    {
      "cell_type": "code",
      "source": [
        "soma = 0\n",
        "for i in range(num1, num2+1):\n",
        "  print(i, end=' ')\n",
        "  soma += i\n",
        "print()\n",
        "print(f'Soma dos valores: {soma}')"
      ],
      "metadata": {
        "colab": {
          "base_uri": "https://localhost:8080/"
        },
        "id": "6w6uLoUkmhro",
        "outputId": "419c9785-13e0-411c-f18a-8e872c095fa9"
      },
      "execution_count": 7,
      "outputs": [
        {
          "output_type": "stream",
          "name": "stdout",
          "text": [
            "1 2 3 4 5 6 7 8 9 10 11 12 13 14 15 16 17 18 19 20 21 22 23 24 25 26 27 28 29 30 31 32 33 34 35 36 37 38 39 40 41 42 43 44 45 46 47 48 49 50 51 52 53 54 55 56 57 58 59 60 61 62 63 64 65 66 67 68 69 70 71 72 73 74 75 76 77 78 79 80 81 82 83 84 85 86 87 88 89 90 91 92 93 94 95 96 97 98 99 100 \n",
            "Soma dos valores: 5050\n"
          ]
        }
      ]
    }
  ]
}