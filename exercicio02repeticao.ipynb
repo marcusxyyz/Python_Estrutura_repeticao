{
  "nbformat": 4,
  "nbformat_minor": 0,
  "metadata": {
    "colab": {
      "name": "exercicio02repeticao.ipynb",
      "provenance": [],
      "collapsed_sections": [],
      "authorship_tag": "ABX9TyMT+ci4FVHInDQItoNo99ES",
      "include_colab_link": true
    },
    "kernelspec": {
      "name": "python3",
      "display_name": "Python 3"
    },
    "language_info": {
      "name": "python"
    }
  },
  "cells": [
    {
      "cell_type": "markdown",
      "metadata": {
        "id": "view-in-github",
        "colab_type": "text"
      },
      "source": [
        "<a href=\"https://colab.research.google.com/github/marcusxyyz/Python_Estrutura_repeticao/blob/main/exercicio02repeticao.ipynb\" target=\"_parent\"><img src=\"https://colab.research.google.com/assets/colab-badge.svg\" alt=\"Open In Colab\"/></a>"
      ]
    },
    {
      "cell_type": "markdown",
      "source": [
        "# ***Exercício 02***\n",
        "Faça um programa que leia um nome de usuário e a sua senha e não aceite a senha igual ao nome do usuário, mostrando uma mensagem de erro e voltando a pedir as informações."
      ],
      "metadata": {
        "id": "Cp-0PM5HPGfD"
      }
    },
    {
      "cell_type": "code",
      "execution_count": 3,
      "metadata": {
        "colab": {
          "base_uri": "https://localhost:8080/"
        },
        "id": "x0FrTNq6PA7g",
        "outputId": "12672d4e-0705-4e4d-9cd6-23f016bff74e"
      },
      "outputs": [
        {
          "name": "stdout",
          "output_type": "stream",
          "text": [
            "Nome de usuário: agua\n",
            "Senha: agua\n",
            "Nome de usuário igual a senha, a senha deve ser diferente!!\n",
            "Outra Senha: agua\n",
            "Nome de usuário igual a senha, a senha deve ser diferente!!\n",
            "Outra Senha: agua\n",
            "Nome de usuário igual a senha, a senha deve ser diferente!!\n",
            "Outra Senha: metal\n"
          ]
        }
      ],
      "source": [
        "nome = str(input('Nome de usuário: '))\n",
        "senha = str(input('Senha: '))\n",
        "\n",
        "while senha == nome:\n",
        "  print('Nome de usuário igual a senha, a senha deve ser diferente!!')\n",
        "  senha = str(input('Outra Senha: '))"
      ]
    }
  ]
}