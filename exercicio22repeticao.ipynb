{
  "nbformat": 4,
  "nbformat_minor": 0,
  "metadata": {
    "colab": {
      "name": "exercicio22repeticao.ipynb",
      "provenance": [],
      "collapsed_sections": [],
      "authorship_tag": "ABX9TyNr83x1hheYTBdD+31LISwX",
      "include_colab_link": true
    },
    "kernelspec": {
      "name": "python3",
      "display_name": "Python 3"
    },
    "language_info": {
      "name": "python"
    }
  },
  "cells": [
    {
      "cell_type": "markdown",
      "metadata": {
        "id": "view-in-github",
        "colab_type": "text"
      },
      "source": [
        "<a href=\"https://colab.research.google.com/github/marcusxyyz/Python_Estrutura_repeticao/blob/main/exercicio22repeticao.ipynb\" target=\"_parent\"><img src=\"https://colab.research.google.com/assets/colab-badge.svg\" alt=\"Open In Colab\"/></a>"
      ]
    },
    {
      "cell_type": "markdown",
      "source": [
        "# ***Exercício 23***\n",
        "\n",
        "Altere o programa de cálculo dos números primos, informando, caso o número não seja primo, por quais número ele é divisível"
      ],
      "metadata": {
        "id": "pg8w42sfKCkP"
      }
    },
    {
      "cell_type": "code",
      "execution_count": 8,
      "metadata": {
        "colab": {
          "base_uri": "https://localhost:8080/"
        },
        "id": "eOvppWtNJ91w",
        "outputId": "92fd46b9-2272-42ec-8b97-e060fa447225"
      },
      "outputs": [
        {
          "name": "stdout",
          "output_type": "stream",
          "text": [
            "Digite um número: 22\n"
          ]
        }
      ],
      "source": [
        "num = int(input('Digite um número: '))"
      ]
    },
    {
      "cell_type": "code",
      "source": [
        "cont = 0\n",
        "for i in range(1, 1000):\n",
        "  if num % 1 == 0 and num % num == 0 and num % i == 0:\n",
        "    cont += 1\n",
        "\n",
        "if cont == 2:\n",
        "  print(f'O numero {num} é primo')\n",
        "else:\n",
        "  print(f'O número {num} não é primo')\n",
        "\n",
        "# Informando os números que são divisíveis\n",
        "if cont > 2:\n",
        "  print('O número é divisivel por:', end=' ')\n",
        "  for i in range(1, 1000):\n",
        "    if num % i == 0:\n",
        "      print(f'{i} ', end=' ')"
      ],
      "metadata": {
        "colab": {
          "base_uri": "https://localhost:8080/"
        },
        "id": "OHj6Bj3gKPwH",
        "outputId": "8df6a096-4bff-4602-dcf6-6b00d09da99f"
      },
      "execution_count": 9,
      "outputs": [
        {
          "output_type": "stream",
          "name": "stdout",
          "text": [
            "O número 22 não é primo\n",
            "O número é divisivel por: 1  2  11  22  "
          ]
        }
      ]
    }
  ]
}