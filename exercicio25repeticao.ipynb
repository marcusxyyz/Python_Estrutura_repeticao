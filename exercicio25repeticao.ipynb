{
  "nbformat": 4,
  "nbformat_minor": 0,
  "metadata": {
    "colab": {
      "name": "exercicio25repeticao.ipynb",
      "provenance": [],
      "collapsed_sections": [],
      "authorship_tag": "ABX9TyPEFcvdZTivD2d2egYgYYzO",
      "include_colab_link": true
    },
    "kernelspec": {
      "name": "python3",
      "display_name": "Python 3"
    },
    "language_info": {
      "name": "python"
    }
  },
  "cells": [
    {
      "cell_type": "markdown",
      "metadata": {
        "id": "view-in-github",
        "colab_type": "text"
      },
      "source": [
        "<a href=\"https://colab.research.google.com/github/marcusxyyz/Python_Estrutura_repeticao/blob/main/exercicio25repeticao.ipynb\" target=\"_parent\"><img src=\"https://colab.research.google.com/assets/colab-badge.svg\" alt=\"Open In Colab\"/></a>"
      ]
    },
    {
      "cell_type": "markdown",
      "source": [
        "# ***Exercício 25***\n",
        "\n",
        "Faça um programa que peça para n pessoas a sua idade, ao final o programa devera verificar se a média de idade da turma varia entre 0 e 25,26 e 60 e maior que 60; e então, dizer se a turma é jovem, adulta ou idosa, conforme a média calculada."
      ],
      "metadata": {
        "id": "OzVp5Oq6kY9W"
      }
    },
    {
      "cell_type": "code",
      "execution_count": 1,
      "metadata": {
        "colab": {
          "base_uri": "https://localhost:8080/"
        },
        "id": "Y5yntKF9kXIu",
        "outputId": "384a7a61-4c86-405c-efbf-cc9f2db4a4dc"
      },
      "outputs": [
        {
          "name": "stdout",
          "output_type": "stream",
          "text": [
            "Quantas idades irei verificar? 5\n"
          ]
        }
      ],
      "source": [
        "qtd = int(input('Quantas idades irei verificar? '))"
      ]
    },
    {
      "cell_type": "code",
      "source": [
        "media = 0\n",
        "for i in range(qtd):\n",
        "  idade = int(input('Idade: '))\n",
        "  media += idade\n",
        "media = media / qtd\n",
        "print(f'Média das idades {media}')"
      ],
      "metadata": {
        "colab": {
          "base_uri": "https://localhost:8080/"
        },
        "id": "XPXtX_tgkouf",
        "outputId": "4e92b121-bcc7-42d7-e42c-49474d7ed95d"
      },
      "execution_count": 10,
      "outputs": [
        {
          "output_type": "stream",
          "name": "stdout",
          "text": [
            "Idade: 90\n",
            "Idade: 62\n",
            "Idade: 21\n",
            "Idade: 45\n",
            "Idade: 87\n",
            "Média das idades 61.0\n"
          ]
        }
      ]
    },
    {
      "cell_type": "code",
      "source": [
        "if media <= 25:\n",
        "  print(\"Turma é JOVEM\")\n",
        "elif media <= 60:\n",
        "  print(\"Turma é ADULTA\")\n",
        "else:\n",
        "  print(\"Turma é IDOSA\")"
      ],
      "metadata": {
        "colab": {
          "base_uri": "https://localhost:8080/"
        },
        "id": "iASw1H3uk_f8",
        "outputId": "0269ef77-c975-466b-f007-e3b7d1b23df4"
      },
      "execution_count": 11,
      "outputs": [
        {
          "output_type": "stream",
          "name": "stdout",
          "text": [
            "Turma é IDOSA\n"
          ]
        }
      ]
    }
  ]
}