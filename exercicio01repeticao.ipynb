{
  "nbformat": 4,
  "nbformat_minor": 0,
  "metadata": {
    "colab": {
      "name": "exercicio01repeticao.ipynb",
      "provenance": [],
      "authorship_tag": "ABX9TyN0ZArynaJEQ4KhbJl3ODZA",
      "include_colab_link": true
    },
    "kernelspec": {
      "name": "python3",
      "display_name": "Python 3"
    },
    "language_info": {
      "name": "python"
    }
  },
  "cells": [
    {
      "cell_type": "markdown",
      "metadata": {
        "id": "view-in-github",
        "colab_type": "text"
      },
      "source": [
        "<a href=\"https://colab.research.google.com/github/marcusxyyz/Python_Estrutura_repeticao/blob/main/exercicio01repeticao.ipynb\" target=\"_parent\"><img src=\"https://colab.research.google.com/assets/colab-badge.svg\" alt=\"Open In Colab\"/></a>"
      ]
    },
    {
      "cell_type": "markdown",
      "source": [
        "# ***Exercício 01***\n",
        "Faça um programa que peça uma nota, entre zero e dez. Mostre uma mensagem caso o valor seja inválido e continue pedindo até que o usuário informe um valor válido."
      ],
      "metadata": {
        "id": "h0zz5NFQNXsT"
      }
    },
    {
      "cell_type": "code",
      "execution_count": 13,
      "metadata": {
        "colab": {
          "base_uri": "https://localhost:8080/"
        },
        "id": "GfgbbWGHMw8i",
        "outputId": "da16e463-21fe-402c-e500-d2e914ce275c"
      },
      "outputs": [
        {
          "name": "stdout",
          "output_type": "stream",
          "text": [
            "Dê sua nota de 0 a 10: 5\n"
          ]
        }
      ],
      "source": [
        "nota = int(input('Dê sua nota de 0 a 10: '))"
      ]
    },
    {
      "cell_type": "code",
      "source": [
        "if nota < 0 or nota > 10.0:\n",
        "  print('Valor inválido') \n",
        "else:\n",
        "  while nota >= 0 and nota <= 10.0:\n",
        "    nota = int(input('Informe outra nota: '))\n",
        "    if nota < 0 or nota > 10.0:\n",
        "      print('Valor inválido') "
      ],
      "metadata": {
        "colab": {
          "base_uri": "https://localhost:8080/"
        },
        "id": "WxKuOSGENyWt",
        "outputId": "86e71fc1-45ab-4af2-dec9-34cea56e3fc2"
      },
      "execution_count": 14,
      "outputs": [
        {
          "output_type": "stream",
          "name": "stdout",
          "text": [
            "Informe outra nota: 6\n",
            "Informe outra nota: 7\n",
            "Informe outra nota: 8\n",
            "Informe outra nota: 9\n",
            "Informe outra nota: 10\n",
            "Informe outra nota: 11\n",
            "Valor inválido\n"
          ]
        }
      ]
    }
  ]
}