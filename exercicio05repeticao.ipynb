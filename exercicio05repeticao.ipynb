{
  "nbformat": 4,
  "nbformat_minor": 0,
  "metadata": {
    "colab": {
      "name": "exercicio05repeticao.ipynb",
      "provenance": [],
      "collapsed_sections": [],
      "authorship_tag": "ABX9TyNhgxwzPaG1/NAk8qUf+x9t",
      "include_colab_link": true
    },
    "kernelspec": {
      "name": "python3",
      "display_name": "Python 3"
    },
    "language_info": {
      "name": "python"
    }
  },
  "cells": [
    {
      "cell_type": "markdown",
      "metadata": {
        "id": "view-in-github",
        "colab_type": "text"
      },
      "source": [
        "<a href=\"https://colab.research.google.com/github/marcusxyyz/Python_Estrutura_repeticao/blob/main/exercicio05repeticao.ipynb\" target=\"_parent\"><img src=\"https://colab.research.google.com/assets/colab-badge.svg\" alt=\"Open In Colab\"/></a>"
      ]
    },
    {
      "cell_type": "markdown",
      "source": [
        "# ***Exercício 05***\n",
        "\n",
        "Altere o programa anterior permitindo ao usuário informar as populações e as taxas de crescimento iniciais. Valide a entrada e permita repetir a operação."
      ],
      "metadata": {
        "id": "IF72IQCmg2g9"
      }
    },
    {
      "cell_type": "code",
      "execution_count": 3,
      "metadata": {
        "colab": {
          "base_uri": "https://localhost:8080/"
        },
        "id": "JMJgmbZ9gD6A",
        "outputId": "12cfdef6-3d9c-4e4f-dc54-9ffbafcd9e07"
      },
      "outputs": [
        {
          "name": "stdout",
          "output_type": "stream",
          "text": [
            "População do País A: 80000\n",
            "Taxa de crescimento do País A: 3\n",
            "População do País B: 200000\n",
            "Taxa de crescimento do País B: 1.5\n"
          ]
        }
      ],
      "source": [
        "paisA = float(input('População do País A: '))\n",
        "crescimentoPaisA = float(input('Taxa de crescimento do País A: ')) / 100\n",
        "\n",
        "paisB = float(input('População do País B: '))\n",
        "crescimentoPaisB = float(input('Taxa de crescimento do País B: ')) / 100\n",
        "\n",
        "ano = 0"
      ]
    },
    {
      "cell_type": "code",
      "source": [
        "while paisA <= paisB:\n",
        "  paisA += paisA * crescimentoPaisA\n",
        "  paisB += paisB * crescimentoPaisB\n",
        "  ano += 1\n",
        "print(f'Anos necessários: {ano}')"
      ],
      "metadata": {
        "colab": {
          "base_uri": "https://localhost:8080/"
        },
        "id": "-55pu4Y7ht8T",
        "outputId": "dd159261-b40c-4539-ac67-e0be3bc1e3eb"
      },
      "execution_count": 4,
      "outputs": [
        {
          "output_type": "stream",
          "name": "stdout",
          "text": [
            "Anos necessários: 63\n"
          ]
        }
      ]
    }
  ]
}