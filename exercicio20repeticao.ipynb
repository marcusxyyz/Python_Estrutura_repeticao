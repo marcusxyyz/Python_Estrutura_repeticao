{
  "nbformat": 4,
  "nbformat_minor": 0,
  "metadata": {
    "colab": {
      "name": "exercicio20repeticao.ipynb",
      "provenance": [],
      "collapsed_sections": [],
      "authorship_tag": "ABX9TyMK9BjiSkc65Ex1Ie3nLyK5",
      "include_colab_link": true
    },
    "kernelspec": {
      "name": "python3",
      "display_name": "Python 3"
    },
    "language_info": {
      "name": "python"
    }
  },
  "cells": [
    {
      "cell_type": "markdown",
      "metadata": {
        "id": "view-in-github",
        "colab_type": "text"
      },
      "source": [
        "<a href=\"https://colab.research.google.com/github/marcusxyyz/Python_Estrutura_repeticao/blob/main/exercicio20repeticao.ipynb\" target=\"_parent\"><img src=\"https://colab.research.google.com/assets/colab-badge.svg\" alt=\"Open In Colab\"/></a>"
      ]
    },
    {
      "cell_type": "markdown",
      "source": [
        "# ***Exercício 20***\n",
        "\n",
        "Altere o programa de cálculo do fatorial, permitindo ao usuário calcular o fatorial várias vezes e limitando o fatorial a números inteiros positivos e menores que 16"
      ],
      "metadata": {
        "id": "dYIrAoHiER1D"
      }
    },
    {
      "cell_type": "code",
      "execution_count": 31,
      "metadata": {
        "colab": {
          "base_uri": "https://localhost:8080/"
        },
        "id": "kuR1jA1xEPr5",
        "outputId": "d48aa7e2-b5c5-42a2-90c9-2601f44e7f79"
      },
      "outputs": [
        {
          "name": "stdout",
          "output_type": "stream",
          "text": [
            "Número: 16\n"
          ]
        }
      ],
      "source": [
        "num = int(input(\"Número: \"))"
      ]
    },
    {
      "cell_type": "code",
      "source": [
        "fatorial = 1\n",
        "produto = num\n",
        "\n",
        "resp = 's'\n",
        "while resp == 's':\n",
        "  while num >= 1 and num < 16:\n",
        "    if produto == 1:\n",
        "      break\n",
        "    else:\n",
        "      fatorial = fatorial * produto\n",
        "      produto -= 1\n",
        "  print(f'Fatorial de {num} é {fatorial}')\n",
        "  resp = str(input('Deseja continuar? '))\n",
        "  if resp == 's':\n",
        "    num = int(input(\"Número: \"))\n",
        "    fatorial = 1\n",
        "    produto = num\n",
        "  else:\n",
        "    resp = False\n"
      ],
      "metadata": {
        "colab": {
          "base_uri": "https://localhost:8080/"
        },
        "id": "Vo-VBm4mEhSh",
        "outputId": "93459b62-ffab-4deb-d452-f45ae2d0d868"
      },
      "execution_count": 32,
      "outputs": [
        {
          "name": "stdout",
          "output_type": "stream",
          "text": [
            "Fatorial de 16 é 1\n",
            "Deseja continuar? s\n",
            "Número: 5\n",
            "Fatorial de 5 é 120\n",
            "Deseja continuar? n\n"
          ]
        }
      ]
    }
  ]
}