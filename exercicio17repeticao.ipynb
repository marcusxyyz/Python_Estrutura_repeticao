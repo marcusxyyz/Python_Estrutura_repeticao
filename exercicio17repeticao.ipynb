{
  "nbformat": 4,
  "nbformat_minor": 0,
  "metadata": {
    "colab": {
      "name": "exercicio17repeticao.ipynb",
      "provenance": [],
      "authorship_tag": "ABX9TyNr1ERIjqHfJ3FLPag6VPzs",
      "include_colab_link": true
    },
    "kernelspec": {
      "name": "python3",
      "display_name": "Python 3"
    },
    "language_info": {
      "name": "python"
    }
  },
  "cells": [
    {
      "cell_type": "markdown",
      "metadata": {
        "id": "view-in-github",
        "colab_type": "text"
      },
      "source": [
        "<a href=\"https://colab.research.google.com/github/marcusxyyz/Python_Estrutura_repeticao/blob/main/exercicio17repeticao.ipynb\" target=\"_parent\"><img src=\"https://colab.research.google.com/assets/colab-badge.svg\" alt=\"Open In Colab\"/></a>"
      ]
    },
    {
      "cell_type": "markdown",
      "source": [
        "# ***Exercício 17***\n",
        "Faça um programa que calcule o fatorial de um número inteiro fornecido pelo usuário. Ex.: 5!=5.4.3.2.1=120"
      ],
      "metadata": {
        "id": "zt__vRjXAWDE"
      }
    },
    {
      "cell_type": "code",
      "execution_count": 9,
      "metadata": {
        "colab": {
          "base_uri": "https://localhost:8080/"
        },
        "id": "Fyy8ky6CATQ9",
        "outputId": "56a3ac98-2e56-4b3f-a993-088b15019b6a"
      },
      "outputs": [
        {
          "name": "stdout",
          "output_type": "stream",
          "text": [
            "Número: 6\n"
          ]
        }
      ],
      "source": [
        "num = int(input(\"Número: \"))"
      ]
    },
    {
      "cell_type": "code",
      "source": [
        "fatorial = 1\n",
        "for i in range(num, 0, -1):\n",
        "  fatorial = fatorial * i\n",
        "print(f'Fatorial de {num} é {fatorial}')"
      ],
      "metadata": {
        "colab": {
          "base_uri": "https://localhost:8080/"
        },
        "id": "IwtKLDPaAkDJ",
        "outputId": "b598ba34-c173-4ea9-fa7b-848530ee39fa"
      },
      "execution_count": 10,
      "outputs": [
        {
          "output_type": "stream",
          "name": "stdout",
          "text": [
            "Fatorial de 6 é 720\n"
          ]
        }
      ]
    }
  ]
}