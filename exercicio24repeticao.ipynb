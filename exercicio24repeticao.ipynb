{
  "nbformat": 4,
  "nbformat_minor": 0,
  "metadata": {
    "colab": {
      "name": "exercicio24repeticao.ipynb",
      "provenance": [],
      "collapsed_sections": [],
      "authorship_tag": "ABX9TyMwSum8CBiUGk1wJTauJ2dE",
      "include_colab_link": true
    },
    "kernelspec": {
      "name": "python3",
      "display_name": "Python 3"
    },
    "language_info": {
      "name": "python"
    }
  },
  "cells": [
    {
      "cell_type": "markdown",
      "metadata": {
        "id": "view-in-github",
        "colab_type": "text"
      },
      "source": [
        "<a href=\"https://colab.research.google.com/github/marcusxyyz/Python_Estrutura_repeticao/blob/main/exercicio24repeticao.ipynb\" target=\"_parent\"><img src=\"https://colab.research.google.com/assets/colab-badge.svg\" alt=\"Open In Colab\"/></a>"
      ]
    },
    {
      "cell_type": "markdown",
      "source": [
        "# ***Exercício 24***\n",
        "\n",
        "Faça um programa que calcule o mostre a média aritmética de N notas."
      ],
      "metadata": {
        "id": "924VVU6ojcCm"
      }
    },
    {
      "cell_type": "code",
      "execution_count": 2,
      "metadata": {
        "colab": {
          "base_uri": "https://localhost:8080/"
        },
        "id": "h3Z2LTudjYXQ",
        "outputId": "f1e2a964-d5b9-4293-9b3d-0923dd902a2b"
      },
      "outputs": [
        {
          "output_type": "stream",
          "name": "stdout",
          "text": [
            "Quantas notas deseja verificar? 5\n",
            "Informe a nota: 10.0\n",
            "Informe a nota: 9.0\n",
            "Informe a nota: 8.0\n",
            "Informe a nota: 7.0\n",
            "Informe a nota: 7.5\n",
            "Media = 8.3\n"
          ]
        }
      ],
      "source": [
        "qtd = int(input('Quantas notas deseja verificar? '))\n",
        "media = 0\n",
        "for i in range(qtd):\n",
        "  nota = float(input('Informe a nota: '))\n",
        "  media += nota\n",
        "media = media / qtd\n",
        "print(f'Media = {round(media,2)}')"
      ]
    }
  ]
}