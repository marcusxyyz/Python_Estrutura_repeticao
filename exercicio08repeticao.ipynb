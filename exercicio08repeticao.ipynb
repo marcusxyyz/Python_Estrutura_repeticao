{
  "nbformat": 4,
  "nbformat_minor": 0,
  "metadata": {
    "colab": {
      "name": "exercicio08repeticao.ipynb",
      "provenance": [],
      "collapsed_sections": [],
      "authorship_tag": "ABX9TyN/h26b/ozxDYl29j46I7xt",
      "include_colab_link": true
    },
    "kernelspec": {
      "name": "python3",
      "display_name": "Python 3"
    },
    "language_info": {
      "name": "python"
    }
  },
  "cells": [
    {
      "cell_type": "markdown",
      "metadata": {
        "id": "view-in-github",
        "colab_type": "text"
      },
      "source": [
        "<a href=\"https://colab.research.google.com/github/marcusxyyz/Python_Estrutura_repeticao/blob/main/exercicio08repeticao.ipynb\" target=\"_parent\"><img src=\"https://colab.research.google.com/assets/colab-badge.svg\" alt=\"Open In Colab\"/></a>"
      ]
    },
    {
      "cell_type": "markdown",
      "source": [
        "# ***Exercício 08***\n",
        "\n",
        "Faça um programa que leia 5 números e informe a soma e a média dos números"
      ],
      "metadata": {
        "id": "fSQZITDSjSEs"
      }
    },
    {
      "cell_type": "code",
      "execution_count": 7,
      "metadata": {
        "colab": {
          "base_uri": "https://localhost:8080/"
        },
        "id": "Nm965AkbjPAN",
        "outputId": "fddb69d4-d61e-4c26-8191-b53b9005bc2e"
      },
      "outputs": [
        {
          "output_type": "stream",
          "name": "stdout",
          "text": [
            "1° valor: 9\n",
            "2° valor: 8\n",
            "3° valor: 7\n",
            "4° valor: 6\n",
            "5° valor: 5\n",
            "\n",
            "Soma = 35\n",
            "Média = 7.0\n"
          ]
        }
      ],
      "source": [
        "soma = 0\n",
        "media = 0\n",
        "for i in range(5):\n",
        "  num = int(input(f'{i+1}° valor: '))\n",
        "  soma += num\n",
        "media = soma / 5\n",
        "print()\n",
        "print(f'Soma = {soma}')\n",
        "print(f'Média = {media}')"
      ]
    }
  ]
}