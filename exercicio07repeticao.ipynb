{
  "nbformat": 4,
  "nbformat_minor": 0,
  "metadata": {
    "colab": {
      "name": "exercicio07repeticao.ipynb",
      "provenance": [],
      "collapsed_sections": [],
      "authorship_tag": "ABX9TyOMAkcEUikI9ptJ4zK7ppFk",
      "include_colab_link": true
    },
    "kernelspec": {
      "name": "python3",
      "display_name": "Python 3"
    },
    "language_info": {
      "name": "python"
    }
  },
  "cells": [
    {
      "cell_type": "markdown",
      "metadata": {
        "id": "view-in-github",
        "colab_type": "text"
      },
      "source": [
        "<a href=\"https://colab.research.google.com/github/marcusxyyz/Python_Estrutura_repeticao/blob/main/exercicio07repeticao.ipynb\" target=\"_parent\"><img src=\"https://colab.research.google.com/assets/colab-badge.svg\" alt=\"Open In Colab\"/></a>"
      ]
    },
    {
      "cell_type": "markdown",
      "source": [
        "# ***Exercício 07***\n",
        "Faça um programa que leia 5 números e informe o maior número."
      ],
      "metadata": {
        "id": "k5LrwpKvigOb"
      }
    },
    {
      "cell_type": "code",
      "execution_count": 3,
      "metadata": {
        "colab": {
          "base_uri": "https://localhost:8080/"
        },
        "id": "k4JpxyHFieWC",
        "outputId": "9d17446c-39a6-4877-a360-de3525c14160"
      },
      "outputs": [
        {
          "output_type": "stream",
          "name": "stdout",
          "text": [
            "Informe um número: 10\n",
            "Informe um número: 9\n",
            "Informe um número: 11\n",
            "Informe um número: 0\n",
            "Informe um número: 5\n",
            "\n",
            "O maior número é 11\n"
          ]
        }
      ],
      "source": [
        "numero = 0\n",
        "maior = 0\n",
        "\n",
        "for i in range(5):\n",
        "  numero = int(input('Informe um número: '))\n",
        "  if numero > maior:\n",
        "    maior = numero\n",
        "\n",
        "print()\n",
        "print(f'O maior número é {maior}')"
      ]
    }
  ]
}